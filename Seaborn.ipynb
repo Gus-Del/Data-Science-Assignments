{
  "nbformat": 4,
  "nbformat_minor": 0,
  "metadata": {
    "colab": {
      "provenance": []
    },
    "kernelspec": {
      "name": "python3",
      "display_name": "Python 3"
    },
    "language_info": {
      "name": "python"
    }
  },
  "cells": [
    {
      "cell_type": "code",
      "execution_count": null,
      "metadata": {
        "id": "FSvo-2XmgjjX"
      },
      "outputs": [],
      "source": [
        "# Import Matplotlib and Seaborn\n",
        "import matplotlib.pyplot as plt\n",
        "import seaborn as sns\n",
        "\n",
        "# Change this scatter plot to have percent literate on the y-axis\n",
        "sns.scatterplot(x=gdp, y=percent_literate)\n",
        "\n",
        "# Show plot\n",
        "plt.show()"
      ]
    },
    {
      "cell_type": "code",
      "source": [
        "# Import Matplotlib and Seaborn\n",
        "import matplotlib.pyplot as plt\n",
        "import seaborn as sns\n",
        "\n",
        "# Create count plot with region on the y-axis\n",
        "sns.countplot(y=region)\n",
        "\n",
        "# Show plot\n",
        "plt.show()"
      ],
      "metadata": {
        "id": "cU4t0huOiZLT"
      },
      "execution_count": null,
      "outputs": []
    },
    {
      "cell_type": "markdown",
      "source": [
        "Import Matplotlib, pandas, and Seaborn using the standard names.\n",
        "\n",
        "Create a DataFrame named df from the csv file located at csv_filepath.\n",
        "\n",
        "Use the countplot() function with the x= and data= arguments to create a count plot with the \"Spiders\" column values on the x-axis.\n",
        "\n",
        "Display the plot."
      ],
      "metadata": {
        "id": "cjyWpcl1knDb"
      }
    },
    {
      "cell_type": "code",
      "source": [
        "# Import Matplotlib, pandas, and Seaborn\n",
        "import matplotlib.pyplot as plt\n",
        "import pandas as pd\n",
        "import seaborn as sns\n",
        "\n",
        "# Create a DataFrame from csv file\n",
        "df = pd.read_csv(csv_filepath)\n",
        "\n",
        "# Create a count plot with \"Spiders\" on the x-axis\n",
        "sns.countplot(x=\"Spiders\", data=df)\n",
        "\n",
        "# Display the plot\n",
        "plt.show()"
      ],
      "metadata": {
        "id": "RwPg4xL0knZo"
      },
      "execution_count": null,
      "outputs": []
    },
    {
      "cell_type": "markdown",
      "source": [
        "Create a scatter plot with \"absences\" on the x-axis and final grade (\"G3\") on the y-axis using the DataFrame student_data.\n",
        "\n",
        "Color the plot points based on \"location\" (urban vs. rural).\n",
        "\n"
      ],
      "metadata": {
        "id": "wlbuq8R8_XR0"
      }
    },
    {
      "cell_type": "markdown",
      "source": [
        "Make \"Rural\" appear before \"Urban\" in the plot legend."
      ],
      "metadata": {
        "id": "LwaQP5o8_b0y"
      }
    },
    {
      "cell_type": "markdown",
      "source": [
        "Adding a Third Variable with Hue"
      ],
      "metadata": {
        "id": "c3TRueuWkvBI"
      }
    },
    {
      "cell_type": "code",
      "source": [
        "# Import Matplotlib and Seaborn\n",
        "import matplotlib.pyplot as plt\n",
        "import seaborn as sns\n",
        "\n",
        "# Change the legend order in the scatter plot\n",
        "sns.scatterplot(x=\"absences\", y=\"G3\",\n",
        "                data=student_data,\n",
        "                hue=\"location\",hue_order=['Rural','Urban'])\n",
        "\n",
        "# Show plot\n",
        "plt.show()"
      ],
      "metadata": {
        "id": "DYg7YrEa_iXy"
      },
      "execution_count": null,
      "outputs": []
    },
    {
      "cell_type": "markdown",
      "source": [
        "Fill in the palette_colors dictionary to map the \"Rural\" location value to the color \"green\" and the \"Urban\" location value to the color \"blue\".\n",
        "\n",
        "Create a count plot with \"school\" on the x-axis using the student_data DataFrame.\n",
        "\n",
        "Add subgroups to the plot using \"location\" variable and use the palette_colors dictionary to make the location subgroups green and blue."
      ],
      "metadata": {
        "id": "dtHzUhVq_tsw"
      }
    },
    {
      "cell_type": "code",
      "source": [
        "# Import Matplotlib and Seaborn\n",
        "import matplotlib.pyplot as plt\n",
        "import seaborn as sns\n",
        "\n",
        "# Create a dictionary mapping subgroup values to colors\n",
        "palette_colors = {\"Rural\": \"green\", \"Urban\": \"blue\"}\n",
        "\n",
        "# Create a count plot of school with location subgroups\n",
        "sns.countplot(x=\"school\", data=student_data,\n",
        "              hue=\"location\",\n",
        "              palette=palette_colors)\n",
        "\n",
        "# Display plot\n",
        "plt.show()"
      ],
      "metadata": {
        "id": "cwAYT_5A_uCo"
      },
      "execution_count": null,
      "outputs": []
    },
    {
      "cell_type": "markdown",
      "source": [
        "Relational plots and subplots\n",
        "\n",
        "Creating subplots with col and row\n",
        "We've seen in prior exercises that students with more absences (\"absences\") tend to have lower final grades (\"G3\"). Does this relationship hold regardless of how much time students study each week?\n",
        "\n",
        "To answer this, we'll look at the relationship between the number of absences that a student has in school and their final grade in the course, creating separate subplots based on each student's weekly study time (\"study_time\").\n",
        "\n",
        "Seaborn has been imported as sns and matplotlib.pyplot has been imported as plt."
      ],
      "metadata": {
        "id": "hQZq8GXh_2gM"
      }
    },
    {
      "cell_type": "markdown",
      "source": [
        "Modify the code to use relplot() instead of scatterplot().\n",
        "\n",
        "Modify the code to create one scatter plot for each level of the variable \"study_time\", arranged in columns.\n",
        "\n",
        "Adapt your code to create one scatter plot for each level of a student's weekly study time, this time arranged in rows."
      ],
      "metadata": {
        "id": "1cSBUQtnAGwH"
      }
    },
    {
      "cell_type": "code",
      "source": [
        "# Change this scatter plot to arrange the plots in rows instead of columns\n",
        "sns.relplot(x=\"absences\", y=\"G3\",\n",
        "            data=student_data,\n",
        "            kind=\"scatter\",\n",
        "            row=\"study_time\")\n",
        "\n",
        "# Show plot\n",
        "plt.show()"
      ],
      "metadata": {
        "id": "kC-k7K4yAHCB"
      },
      "execution_count": null,
      "outputs": []
    },
    {
      "cell_type": "markdown",
      "source": [
        "Use relplot() to create a scatter plot with \"G1\" on the x-axis and \"G3\" on the y-axis, using the student_data DataFrame.\n",
        "\n",
        "Create column subplots based on whether the student received support from the school (\"schoolsup\"), ordered so that \"yes\" comes before \"no\".\n",
        "\n",
        "Add row subplots based on whether the student received support from the family (\"famsup\"), ordered so that \"yes\" comes before \"no\". This will result in subplots based on two factors."
      ],
      "metadata": {
        "id": "XpH5Zc_tCLBV"
      }
    },
    {
      "cell_type": "code",
      "source": [
        "# Adjust further to add subplots based on family support\n",
        "sns.relplot(x=\"G1\", y=\"G3\",\n",
        "            data=student_data,\n",
        "            kind=\"scatter\",\n",
        "            col=\"schoolsup\",\n",
        "            col_order=[\"yes\", \"no\"], row='famsup', row_order=['yes','no'])\n",
        "\n",
        "# Show plot\n",
        "plt.show()"
      ],
      "metadata": {
        "id": "XRJzO5oFCLUV"
      },
      "execution_count": null,
      "outputs": []
    },
    {
      "cell_type": "markdown",
      "source": [
        "Use relplot() and the mpg DataFrame to create a scatter plot with \"horsepower\" on the x-axis and \"mpg\" on the y-axis. Vary the size of the points by the number of cylinders in the car (\"cylinders\").\n",
        "\n",
        "To make this plot easier to read, use hue to vary the color of the points by the number of cylinders in the car (\"cylinders\")."
      ],
      "metadata": {
        "id": "kK3F2SiaEeEf"
      }
    },
    {
      "cell_type": "code",
      "source": [
        "# Import Matplotlib and Seaborn\n",
        "import matplotlib.pyplot as plt\n",
        "import seaborn as sns\n",
        "\n",
        "# Create scatter plot of horsepower vs. mpg\n",
        "sns.relplot(x=\"horsepower\", y=\"mpg\",\n",
        "            data=mpg, kind=\"scatter\",\n",
        "            size=\"cylinders\", hue='cylinders')\n",
        "\n",
        "# Show plot\n",
        "plt.show()"
      ],
      "metadata": {
        "id": "TwrP9c3pEeaF"
      },
      "execution_count": null,
      "outputs": []
    },
    {
      "cell_type": "markdown",
      "source": [
        "Use relplot() and the mpg DataFrame to create a scatter plot with \"acceleration\" on the x-axis and \"mpg\" on the y-axis.\n",
        "\n",
        "Vary the style and color of the plot points by country of origin (\"origin\")."
      ],
      "metadata": {
        "id": "Ot_XOTOWE8zT"
      }
    },
    {
      "cell_type": "code",
      "source": [
        "# Import Matplotlib and Seaborn\n",
        "import matplotlib.pyplot as plt\n",
        "import seaborn as sns\n",
        "\n",
        "# Create a scatter plot of acceleration vs. mpg\n",
        "sns.relplot(x=\"acceleration\", y=\"mpg\",\n",
        "            data=mpg, kind=\"scatter\",\n",
        "            style=\"origin\", hue='origin')\n",
        "\n",
        "\n",
        "\n",
        "# Show plot\n",
        "plt.show()"
      ],
      "metadata": {
        "id": "UvaIVqBrE9KI"
      },
      "execution_count": null,
      "outputs": []
    },
    {
      "cell_type": "markdown",
      "source": [
        "Line Plots"
      ],
      "metadata": {
        "id": "ssAULd2DFGCC"
      }
    },
    {
      "cell_type": "markdown",
      "source": [
        "Use relplot() and the mpg DataFrame to create a line plot with \"model_year\" on the x-axis and \"mpg\" on the y-axis."
      ],
      "metadata": {
        "id": "Cnyz8pOJG8ji"
      }
    },
    {
      "cell_type": "code",
      "source": [
        "# Import Matplotlib and Seaborn\n",
        "import matplotlib.pyplot as plt\n",
        "import seaborn as sns\n",
        "\n",
        "# Create line plot\n",
        "sns.relplot(x='model_year', y='mpg', data=mpg, kind='line')\n",
        "\n",
        "\n",
        "# Show plot\n",
        "plt.show()"
      ],
      "metadata": {
        "id": "G_mb7n4NG84H"
      },
      "execution_count": null,
      "outputs": []
    },
    {
      "cell_type": "markdown",
      "source": [
        "Change the plot so the shaded area shows the standard deviation instead of the confidence interval for the mean."
      ],
      "metadata": {
        "id": "5VSp7FuyIBfq"
      }
    },
    {
      "cell_type": "code",
      "source": [
        "# Make the shaded area show the standard deviation\n",
        "sns.relplot(x=\"model_year\", y=\"mpg\",\n",
        "            data=mpg, kind=\"line\", ci='sd')\n",
        "\n",
        "# Show plot\n",
        "plt.show()"
      ],
      "metadata": {
        "id": "txfb8PjOIByn"
      },
      "execution_count": null,
      "outputs": []
    },
    {
      "cell_type": "markdown",
      "source": [
        "Use relplot() and the mpg DataFrame to create a line plot with \"model_year\" on the x-axis and \"horsepower\" on the y-axis. Turn off the confidence intervals on the plot.\n",
        "\n",
        "Create different lines for each country of origin (\"origin\") that vary in both line style and color.\n",
        "\n",
        "Add markers for each data point to the lines.\n",
        "Use the dashes parameter to use solid lines for all countries, while still allowing for different marker styles for each line."
      ],
      "metadata": {
        "id": "lmaAQG0LIyO-"
      }
    },
    {
      "cell_type": "code",
      "source": [
        "# Import Matplotlib and Seaborn\n",
        "import matplotlib.pyplot as plt\n",
        "import seaborn as sns\n",
        "\n",
        "# Add markers and make each line have the same style\n",
        "sns.relplot(x=\"model_year\", y=\"horsepower\",\n",
        "            data=mpg, kind=\"line\",\n",
        "            ci=None, style=\"origin\",\n",
        "            hue=\"origin\", markers=True, dashes=False)\n",
        "\n",
        "# Show plot\n",
        "plt.show()"
      ],
      "metadata": {
        "id": "rFOIG3BeIynp"
      },
      "execution_count": null,
      "outputs": []
    },
    {
      "cell_type": "markdown",
      "source": [
        "Count Plots and Bar Plots"
      ],
      "metadata": {
        "id": "RyjmDNDhI_MR"
      }
    },
    {
      "cell_type": "markdown",
      "source": [
        "Use sns.catplot() to create a count plot using the survey_data DataFrame with \"Internet usage\" on the x-axis.\n",
        "\n",
        "Make the bars horizontal instead of vertical.\n",
        "\n",
        "Separate this plot into two side-by-side column subplots based on \"Age Category\", which separates respondents into those that are younger than 21 vs. 21 and older.\n"
      ],
      "metadata": {
        "id": "eRIxPp81JCL7"
      }
    },
    {
      "cell_type": "code",
      "source": [
        "# Separate into column subplots based on age category\n",
        "sns.catplot(y=\"Internet usage\", data=survey_data,\n",
        "            kind=\"count\", col=\"Age Category\")\n",
        "\n",
        "# Show plot\n",
        "plt.show()"
      ],
      "metadata": {
        "id": "6DshCSexJCgT"
      },
      "execution_count": null,
      "outputs": []
    },
    {
      "cell_type": "markdown",
      "source": [
        "Use the survey_data DataFrame and sns.catplot() to create a bar plot with \"Gender\" on the x-axis and \"Interested in Math\" on the y-axis."
      ],
      "metadata": {
        "id": "USANWFiXKrvl"
      }
    },
    {
      "cell_type": "code",
      "source": [
        "# Create a bar plot of interest in math, separated by gender\n",
        "sns.catplot(x=\"Gender\", y=\"Interested in Math\",\n",
        "            data=survey_data, kind=\"bar\")\n",
        "\n",
        "# Show plot\n",
        "plt.show()"
      ],
      "metadata": {
        "id": "Ke5nvF02KsFz"
      },
      "execution_count": null,
      "outputs": []
    },
    {
      "cell_type": "markdown",
      "source": [
        "Use sns.catplot() to create a bar plot with \"study_time\" on the x-axis and final grade (\"G3\") on the y-axis, using the student_data DataFrame"
      ],
      "metadata": {
        "id": "dekym8MHKz_6"
      }
    },
    {
      "cell_type": "code",
      "source": [
        "# Create bar plot of average final grade in each study category\n",
        "sns.catplot(x=\"study_time\", y=\"G3\",\n",
        "            data=student_data,\n",
        "            kind=\"bar\")\n",
        "\n",
        "# Show plot\n",
        "plt.show()"
      ],
      "metadata": {
        "id": "EwT8mGKIK0ee"
      },
      "execution_count": null,
      "outputs": []
    },
    {
      "cell_type": "markdown",
      "source": [
        "Using the order parameter and the category_order list that is provided, rearrange the bars so that they are in order from lowest study time to highest."
      ],
      "metadata": {
        "id": "2-WdeYdzLPAt"
      }
    },
    {
      "cell_type": "code",
      "source": [
        "# List of categories from lowest to highest\n",
        "category_order = [\"<2 hours\",\n",
        "                  \"2 to 5 hours\",\n",
        "                  \"5 to 10 hours\",\n",
        "                  \">10 hours\"]\n",
        "\n",
        "# Rearrange the categories\n",
        "sns.catplot(x=\"study_time\", y=\"G3\",\n",
        "            data=student_data,\n",
        "            kind=\"bar\",\n",
        "            order=category_order)\n",
        "\n",
        "# Show plot\n",
        "plt.show()"
      ],
      "metadata": {
        "id": "FR8-W3_iLI2g"
      },
      "execution_count": null,
      "outputs": []
    },
    {
      "cell_type": "markdown",
      "source": [
        "Creating a Box Plot"
      ],
      "metadata": {
        "id": "nlTuQ4AdLcAm"
      }
    },
    {
      "cell_type": "markdown",
      "source": [
        "Use sns.catplot() and the student_data DataFrame to create a box plot with \"study_time\" on the x-axis and \"G3\" on the y-axis.\n",
        "\n",
        "Set the ordering of the categories to study_time_order."
      ],
      "metadata": {
        "id": "OIC9mL8ELeIM"
      }
    },
    {
      "cell_type": "code",
      "source": [
        "# Specify the category ordering\n",
        "study_time_order = [\"<2 hours\", \"2 to 5 hours\",\n",
        "                    \"5 to 10 hours\", \">10 hours\"]\n",
        "\n",
        "# Create a box plot and set the order of the categories\n",
        "sns.catplot(x=\"study_time\", y=\"G3\",\n",
        "            data=student_data,\n",
        "            kind=\"box\",\n",
        "            order=study_time_order)\n",
        "\n",
        "# Show plot\n",
        "plt.show()"
      ],
      "metadata": {
        "id": "LmDqUFDiLebP"
      },
      "execution_count": null,
      "outputs": []
    },
    {
      "cell_type": "markdown",
      "source": [
        "Use sns.catplot() to create a box plot with the student_data DataFrame, putting \"internet\" on the x-axis and \"G3\" on the y-axis.\n",
        "Add subgroups so each box plot is colored based on \"location\".\n",
        "Do not display the outliers."
      ],
      "metadata": {
        "id": "nO_aQoMHOJPe"
      }
    },
    {
      "cell_type": "code",
      "source": [
        "# Create a box plot with subgroups and omit the outliers\n",
        "sns.catplot(x=\"internet\", y=\"G3\",\n",
        "            data=student_data,\n",
        "            kind=\"box\",\n",
        "            hue='location', sym='')"
      ],
      "metadata": {
        "id": "TCZbVt1dOJxZ"
      },
      "execution_count": null,
      "outputs": []
    },
    {
      "cell_type": "markdown",
      "source": [
        "\n",
        "\n",
        "Change the code to set the whiskers to extend to the min and max values."
      ],
      "metadata": {
        "id": "AyfyKYzCOnGS"
      }
    },
    {
      "cell_type": "code",
      "source": [
        "# Set the whiskers at the min and max values\n",
        "sns.catplot(x=\"romantic\", y=\"G3\",\n",
        "            data=student_data,\n",
        "            kind=\"box\",\n",
        "            whis=[0, 100])\n",
        "\n",
        "# Show plot\n",
        "plt.show()"
      ],
      "metadata": {
        "id": "MxuI8dNkOnay"
      },
      "execution_count": null,
      "outputs": []
    },
    {
      "cell_type": "markdown",
      "source": [
        "Point Plots"
      ],
      "metadata": {
        "id": "czC4TygGOv18"
      }
    },
    {
      "cell_type": "markdown",
      "source": [
        "Use sns.catplot() and the student_data DataFrame to create a point plot with \"famrel\" on the x-axis and number of absences (\"absences\") on the y-axis.\n",
        "\n",
        "Add \"caps\" to the end of the confidence intervals with size 0.2.\n",
        "\n",
        "Remove the lines joining the points in each category."
      ],
      "metadata": {
        "id": "A0PrEovHOxqv"
      }
    },
    {
      "cell_type": "code",
      "source": [
        "# Remove the lines joining the points\n",
        "sns.catplot(x=\"famrel\", y=\"absences\",\n",
        "\t\t\tdata=student_data,\n",
        "            kind=\"point\",\n",
        "            capsize=0.2, join=False)\n",
        "\n",
        "# Show plot\n",
        "plt.show()"
      ],
      "metadata": {
        "id": "6WteExR5Ox8b"
      },
      "execution_count": null,
      "outputs": []
    },
    {
      "cell_type": "markdown",
      "source": [
        "Use sns.catplot() and the student_data DataFrame to create a point plot with relationship status (\"romantic\") on the x-axis and number of absences (\"absences\") on the y-axis. Color the points based on the school that they attend (\"school\").\n",
        "\n",
        "Turn off the confidence intervals for the plot.\n",
        "\n",
        "Since there may be outliers of students with many absences, use the median function that we've imported from numpy to display the median number of absences instead of the average."
      ],
      "metadata": {
        "id": "6RGGIBE-QxD7"
      }
    },
    {
      "cell_type": "code",
      "source": [
        "# Import median function from numpy\n",
        "from numpy import median\n",
        "\n",
        "# Plot the median number of absences instead of the mean\n",
        "sns.catplot(x=\"romantic\", y=\"absences\",\n",
        "\t\t\tdata=student_data,\n",
        "            kind=\"point\",\n",
        "            hue=\"school\",\n",
        "            ci=None, estimator=median)\n",
        "\n",
        "# Show plot\n",
        "plt.show()"
      ],
      "metadata": {
        "id": "44X-SWdTQxjp"
      },
      "execution_count": null,
      "outputs": []
    },
    {
      "cell_type": "markdown",
      "source": [
        "Changing Plot Style and Color"
      ],
      "metadata": {
        "id": "VBWUUTe3Q8xW"
      }
    },
    {
      "cell_type": "code",
      "source": [
        "# Change the color palette to \"RdBu\"\n",
        "sns.set_style(\"whitegrid\")\n",
        "sns.set_palette(\"RdBu\")\n",
        "\n",
        "# Create a count plot of survey responses\n",
        "category_order = [\"Never\", \"Rarely\", \"Sometimes\",\n",
        "                  \"Often\", \"Always\"]\n",
        "\n",
        "sns.catplot(x=\"Parents Advice\",\n",
        "            data=survey_data,\n",
        "            kind=\"count\",\n",
        "            order=category_order)\n",
        "\n",
        "# Show plot\n",
        "plt.show()"
      ],
      "metadata": {
        "id": "r_Mntfw9SKI5"
      },
      "execution_count": null,
      "outputs": []
    },
    {
      "cell_type": "markdown",
      "source": [
        "Change the context to \"poster\", which is the largest scale available."
      ],
      "metadata": {
        "id": "GQBV3ghhSg0Y"
      }
    },
    {
      "cell_type": "code",
      "source": [
        "# Change the context to \"poster\"\n",
        "sns.set_context(\"poster\")\n",
        "\n",
        "# Create bar plot\n",
        "sns.catplot(x=\"Number of Siblings\", y=\"Feels Lonely\",\n",
        "            data=survey_data, kind=\"bar\")\n",
        "\n",
        "# Show plot\n",
        "plt.show()"
      ],
      "metadata": {
        "id": "jzbKzpjsShIz"
      },
      "execution_count": null,
      "outputs": []
    },
    {
      "cell_type": "markdown",
      "source": [
        "Adding titles and labels: Part 1"
      ],
      "metadata": {
        "id": "ooQHabAaSpt9"
      }
    },
    {
      "cell_type": "markdown",
      "source": [
        "Add the following title to this plot: \"Car Weight vs. Horsepower\"."
      ],
      "metadata": {
        "id": "EETyKL0hsL7Q"
      }
    },
    {
      "cell_type": "code",
      "source": [
        "# Create scatter plot\n",
        "g = sns.relplot(x=\"weight\",\n",
        "                y=\"horsepower\",\n",
        "                data=mpg,\n",
        "                kind=\"scatter\")\n",
        "\n",
        "# Add a title \"Car Weight vs. Horsepower\"\n",
        "g.fig.suptitle(\"Car Weight vs. Horsepower\")\n",
        "\n",
        "# Show plot\n",
        "plt.show()"
      ],
      "metadata": {
        "id": "WkhJw_2VsOoM"
      },
      "execution_count": null,
      "outputs": []
    },
    {
      "cell_type": "markdown",
      "source": [
        "Adding Titles and labels: Part 2"
      ],
      "metadata": {
        "id": "fw6Tzy4SsUr2"
      }
    },
    {
      "cell_type": "markdown",
      "source": [
        "Add the following title to the plot: \"Average MPG Over Time\".\n",
        "\n",
        "Label the x-axis as \"Car Model Year\" and the y-axis as \"Average MPG\"."
      ],
      "metadata": {
        "id": "hlOdQ3G_tpy1"
      }
    },
    {
      "cell_type": "code",
      "source": [
        "# Create line plot\n",
        "g = sns.lineplot(x=\"model_year\", y=\"mpg_mean\",\n",
        "                 data=mpg_mean,\n",
        "                 hue=\"origin\")\n",
        "\n",
        "# Add a title \"Average MPG Over Time\"\n",
        "g.set_title(\"Average MPG Over Time\")\n",
        "\n",
        "# Add x-axis and y-axis labels\n",
        "g.set(xlabel='Car Model Year', ylabel='Average MPG')\n",
        "\n",
        "\n",
        "# Show plot\n",
        "plt.show()"
      ],
      "metadata": {
        "id": "ivVNFaUttn1-"
      },
      "execution_count": null,
      "outputs": []
    },
    {
      "cell_type": "markdown",
      "source": [
        "Rotate the x-tick labels 90 degrees."
      ],
      "metadata": {
        "id": "NCUQRW9jt60q"
      }
    },
    {
      "cell_type": "code",
      "source": [
        "# Create point plot\n",
        "sns.catplot(x=\"origin\",\n",
        "            y=\"acceleration\",\n",
        "            data=mpg,\n",
        "            kind=\"point\",\n",
        "            join=False,\n",
        "            capsize=0.1)\n",
        "\n",
        "# Rotate x-tick labels\n",
        "plt.xticks(rotation=90)\n",
        "\n",
        "# Show plot\n",
        "plt.show()"
      ],
      "metadata": {
        "id": "lnCJKPn_t7r6"
      },
      "execution_count": null,
      "outputs": []
    },
    {
      "cell_type": "markdown",
      "source": [
        "Set the color palette to \"Blues\".\n",
        "Add subgroups to color the box plots based on \"Interested in Pets\".\n",
        "Set the title of the FacetGrid object g to \"Age of Those Interested in Pets vs. Not\".\n",
        "Make the plot display using a Matplotlib function."
      ],
      "metadata": {
        "id": "HTPfQuXuvK99"
      }
    },
    {
      "cell_type": "code",
      "source": [
        "# Set palette to \"Blues\"\n",
        "sns.set_palette('Blues')\n",
        "\n",
        "# Adjust to add subgroups based on \"Interested in Pets\"\n",
        "g = sns.catplot(x=\"Gender\",\n",
        "                y=\"Age\", data=survey_data,\n",
        "                kind=\"box\", hue='Interested in Pets')\n",
        "\n",
        "# Set title to \"Age of Those Interested in Pets vs. Not\"\n",
        "g.fig.suptitle(\"Age of Those Interested in Pets vs. Not\")\n",
        "\n",
        "# Show plot\n",
        "plt.show()"
      ],
      "metadata": {
        "id": "-Bvi07EOvLTa"
      },
      "execution_count": null,
      "outputs": []
    },
    {
      "cell_type": "markdown",
      "source": [
        "Set the figure style to \"dark\".\n",
        "\n",
        "Adjust the bar plot code to add subplots based on \"Gender\", arranged in columns.\n",
        "\n",
        "Add the title \"Percentage of Young People Who Like Techno\" to this FacetGrid plot.\n",
        "\n",
        "Label the x-axis \"Location of Residence\" and y-axis \"% Who Like Techno\"."
      ],
      "metadata": {
        "id": "NlCzK7NLv8GZ"
      }
    },
    {
      "cell_type": "code",
      "source": [
        "# Set the figure style to \"dark\"\n",
        "sns.set_style('dark')\n",
        "\n",
        "# Adjust to add subplots per gender\n",
        "g = sns.catplot(x=\"Village - town\", y=\"Likes Techno\",\n",
        "                data=survey_data, kind=\"bar\",\n",
        "                col='Gender')\n",
        "\n",
        "# Add title and axis labels\n",
        "g.fig.suptitle(\"Percentage of Young People Who Like Techno\", y=1.02)\n",
        "g.set(xlabel=\"Location of Residence\",\n",
        "       ylabel=\"% Who Like Techno\")\n",
        "\n",
        "# Show plot\n",
        "plt.show()"
      ],
      "metadata": {
        "id": "w8Z4OZD2v8is"
      },
      "execution_count": null,
      "outputs": []
    }
  ]
}