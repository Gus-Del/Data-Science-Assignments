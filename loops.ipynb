{
 "cells": [
  {
   "cell_type": "code",
   "execution_count": 5,
   "id": "6cb5fec7-eb5c-4aa8-b417-c09049971d5c",
   "metadata": {},
   "outputs": [
    {
     "name": "stdout",
     "output_type": "stream",
     "text": [
      "M-u-s-t-a-b-s-h-e-r-a-"
     ]
    }
   ],
   "source": [
    "name=\"Mustabshera\"\n",
    "for i in name:\n",
    "    print(i,end=\"-\")"
   ]
  },
  {
   "cell_type": "code",
   "execution_count": 7,
   "id": "632106f9-0afa-432a-a12b-63c21212d58d",
   "metadata": {},
   "outputs": [
    {
     "name": "stdout",
     "output_type": "stream",
     "text": [
      "Gus,Gus,Gus,"
     ]
    }
   ],
   "source": [
    "name=\"Gus\"\n",
    "for i in name:\n",
    "    print(name,end=\",\")"
   ]
  },
  {
   "cell_type": "code",
   "execution_count": 10,
   "id": "73b4c6c0-2b92-44e5-8b4a-a4c0b6c69a36",
   "metadata": {},
   "outputs": [
    {
     "name": "stdout",
     "output_type": "stream",
     "text": [
      "Monika,Elias,Raisa,Gus,"
     ]
    }
   ],
   "source": [
    "my_List=[\"Monika\",\"Elias\",\"Raisa\",\"Gus\"]\n",
    "for i in my_List:\n",
    "    print(i,end=\",\")"
   ]
  },
  {
   "cell_type": "code",
   "execution_count": 25,
   "id": "c2ebe838-1b8a-4c6a-bdd6-62ecf2dabbbd",
   "metadata": {},
   "outputs": [
    {
     "name": "stdout",
     "output_type": "stream",
     "text": [
      "5 not divisible by 2\n",
      "3 not divisible by 2\n",
      "we are out of for loop\n"
     ]
    }
   ],
   "source": [
    "s=[2,6,5,8,3]\n",
    "for i in s:\n",
    "    if(i%2!=0):\n",
    "        print(i,\"not divisible by 2\")\n",
    "print(\"we are out of for loop\")"
   ]
  },
  {
   "cell_type": "code",
   "execution_count": 13,
   "id": "8fc10b65-20c2-4256-85b3-8e8d64e8dc13",
   "metadata": {},
   "outputs": [
    {
     "name": "stdout",
     "output_type": "stream",
     "text": [
      "9\n",
      "41\n",
      "12\n",
      "3\n",
      "74\n",
      "15\n",
      "After\n"
     ]
    }
   ],
   "source": [
    "for i in [9, 41, 12, 3, 74, 15] :\n",
    "     print(i)\n",
    "print('After')\n"
   ]
  },
  {
   "cell_type": "code",
   "execution_count": 26,
   "id": "dfa2d029-0b9d-4bf1-bf9b-fbd1611e5038",
   "metadata": {},
   "outputs": [
    {
     "name": "stdout",
     "output_type": "stream",
     "text": [
      "Before -1\n",
      "9 9\n",
      "41 41\n",
      "41 12\n",
      "41 3\n",
      "74 74\n",
      "74 15\n",
      "After 74\n"
     ]
    }
   ],
   "source": [
    "largest_so_far=-1\n",
    "print(\"Before\",largest_so_far)\n",
    "for the_num in [9, 41, 12, 3, 74, 15] :\n",
    "    if the_num > largest_so_far :\n",
    "        largest_so_far = the_num\n",
    "    print(largest_so_far,the_num)\n",
    "print('After', largest_so_far)\n"
   ]
  },
  {
   "cell_type": "code",
   "execution_count": 35,
   "id": "95d59e88-81b6-4da6-9ddb-966c2b6220d9",
   "metadata": {},
   "outputs": [
    {
     "name": "stdout",
     "output_type": "stream",
     "text": [
      "Before 0\n",
      "1 8\n",
      "2 5\n",
      "3 7\n",
      "4 4\n",
      "5 23\n",
      "6 45\n",
      "after 6\n"
     ]
    }
   ],
   "source": [
    "counter=0\n",
    "print(\"Before\",counter)\n",
    "for i in [8,5,7,4,23,45]:\n",
    "    counter=counter+1\n",
    "    print(counter,i)\n",
    "print(\"after\",counter)"
   ]
  },
  {
   "cell_type": "code",
   "execution_count": 29,
   "id": "2e619540-d12a-4d24-a375-349a8015cabc",
   "metadata": {},
   "outputs": [
    {
     "name": "stdout",
     "output_type": "stream",
     "text": [
      "1\n"
     ]
    }
   ],
   "source": [
    "counter=0\n",
    "counter=counter+1\n",
    "print(counter)"
   ]
  },
  {
   "cell_type": "code",
   "execution_count": 36,
   "id": "6468a63c-5d7d-46d2-b2ca-8da92ed18a7f",
   "metadata": {},
   "outputs": [
    {
     "name": "stdout",
     "output_type": "stream",
     "text": [
      "2\n"
     ]
    }
   ],
   "source": [
    "x=0\n",
    "x=x+2\n",
    "print(x)"
   ]
  },
  {
   "cell_type": "code",
   "execution_count": 38,
   "id": "c151c85c-464a-40b6-9090-e947c20efa46",
   "metadata": {},
   "outputs": [
    {
     "name": "stdout",
     "output_type": "stream",
     "text": [
      "8\n"
     ]
    }
   ],
   "source": [
    "x=x+3\n",
    "print(x)"
   ]
  },
  {
   "cell_type": "code",
   "execution_count": null,
   "id": "5822d12f-f261-4c6d-bc88-11a78a3f6ea2",
   "metadata": {},
   "outputs": [],
   "source": []
  }
 ],
 "metadata": {
  "kernelspec": {
   "display_name": "Python 3 (ipykernel)",
   "language": "python",
   "name": "python3"
  },
  "language_info": {
   "codemirror_mode": {
    "name": "ipython",
    "version": 3
   },
   "file_extension": ".py",
   "mimetype": "text/x-python",
   "name": "python",
   "nbconvert_exporter": "python",
   "pygments_lexer": "ipython3",
   "version": "3.12.4"
  }
 },
 "nbformat": 4,
 "nbformat_minor": 5
}
