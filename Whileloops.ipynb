{
 "cells": [
  {
   "cell_type": "code",
   "execution_count": 1,
   "id": "866c82fa-c0c8-4a86-a789-b3c4d6608165",
   "metadata": {},
   "outputs": [
    {
     "name": "stdout",
     "output_type": "stream",
     "text": [
      "1\n",
      "2\n",
      "3\n",
      "4\n",
      "5\n",
      "6\n",
      "7\n",
      "8\n",
      "9\n"
     ]
    }
   ],
   "source": [
    "i=1 #initialization step\n",
    "while i<10: #test expression\n",
    "    print(i) #body of loop\n",
    "    i+=1 #i=i+1 # update of expression"
   ]
  },
  {
   "cell_type": "code",
   "execution_count": 7,
   "id": "289ee6e1-da73-4adf-a66a-89045d752ca6",
   "metadata": {},
   "outputs": [
    {
     "data": {
      "text/plain": [
       "5"
      ]
     },
     "execution_count": 7,
     "metadata": {},
     "output_type": "execute_result"
    }
   ],
   "source": [
    "i=2\n",
    "i+=3 #i=i+3\n",
    "i"
   ]
  },
  {
   "cell_type": "code",
   "execution_count": 17,
   "id": "290229d6-f686-41c2-ba3c-7492aef7e78e",
   "metadata": {},
   "outputs": [
    {
     "name": "stdout",
     "output_type": "stream",
     "text": [
      "12\n",
      "Hello World\n"
     ]
    }
   ],
   "source": [
    "x=34-23\n",
    "y=\"Hello\"\n",
    "z=3.45\n",
    "if z==3.45 and y==\"Hello\":\n",
    "    x=x+1\n",
    "    y=y+\" \"+\"World\"\n",
    "print(x)\n",
    "print(y)"
   ]
  },
  {
   "cell_type": "code",
   "execution_count": 15,
   "id": "9f7c3ae9-c2c4-45bc-ac16-75f89b2e14dc",
   "metadata": {},
   "outputs": [
    {
     "name": "stdout",
     "output_type": "stream",
     "text": [
      "Hello\n"
     ]
    }
   ],
   "source": [
    "x=3\n",
    "if x<8 or x>4:\n",
    "    print(\"Hello\")\n",
    "else:\n",
    "    print(\"no,its smaller\")"
   ]
  },
  {
   "cell_type": "code",
   "execution_count": 4,
   "id": "784eb87d-c1f5-40d1-90d9-7da13a165c22",
   "metadata": {},
   "outputs": [
    {
     "name": "stdout",
     "output_type": "stream",
     "text": [
      "Lather\n",
      "Rinse\n",
      "Lather\n",
      "Rinse\n",
      "Lather\n",
      "Rinse\n",
      "Lather\n",
      "Rinse\n",
      "Dry off!\n"
     ]
    }
   ],
   "source": [
    "n = 5\n",
    "while n > 1 :\n",
    "    print('Lather')\n",
    "    print('Rinse')\n",
    "    n=n-1\n",
    "print('Dry off!')\n",
    "\n"
   ]
  },
  {
   "cell_type": "code",
   "execution_count": 2,
   "id": "ee465e22-6bb1-4286-b249-2965d6518f15",
   "metadata": {},
   "outputs": [
    {
     "name": "stdin",
     "output_type": "stream",
     "text": [
      "Enter input  5\n"
     ]
    },
    {
     "name": "stdout",
     "output_type": "stream",
     "text": [
      "5\n"
     ]
    },
    {
     "name": "stdin",
     "output_type": "stream",
     "text": [
      "Enter input  6\n"
     ]
    },
    {
     "name": "stdout",
     "output_type": "stream",
     "text": [
      "6\n"
     ]
    },
    {
     "name": "stdin",
     "output_type": "stream",
     "text": [
      "Enter input  done\n"
     ]
    },
    {
     "name": "stdout",
     "output_type": "stream",
     "text": [
      "Done\n"
     ]
    }
   ],
   "source": [
    "while True:\n",
    "    line=input(\"Enter input \")\n",
    "    if line==\"done\":\n",
    "        break\n",
    "    print(line)\n",
    "print(\"Done\")"
   ]
  },
  {
   "cell_type": "code",
   "execution_count": 1,
   "id": "cf0a2cbb-caac-418d-b0cd-fa32247e3ab0",
   "metadata": {},
   "outputs": [
    {
     "name": "stdin",
     "output_type": "stream",
     "text": [
      "389 hello\n"
     ]
    }
   ],
   "source": [
    "x=input(389)"
   ]
  },
  {
   "cell_type": "code",
   "execution_count": 3,
   "id": "c60587fe-60de-4fd0-8a12-bdfec52244db",
   "metadata": {},
   "outputs": [
    {
     "name": "stdin",
     "output_type": "stream",
     "text": [
      "Enter anything 2\n"
     ]
    }
   ],
   "source": [
    "x=int(input(\"Enter anything\"))\n",
    "y=x+1"
   ]
  },
  {
   "cell_type": "code",
   "execution_count": 6,
   "id": "8ea23a5a-375d-47fc-b72f-5e29bc3e1e35",
   "metadata": {},
   "outputs": [
    {
     "name": "stdin",
     "output_type": "stream",
     "text": [
      "Enter anything 54\n"
     ]
    },
    {
     "data": {
      "text/plain": [
       "55"
      ]
     },
     "execution_count": 6,
     "metadata": {},
     "output_type": "execute_result"
    }
   ],
   "source": [
    "x=int(input(\"Enter anything\"))\n",
    "y=x+1\n",
    "y"
   ]
  },
  {
   "cell_type": "code",
   "execution_count": null,
   "id": "187231f5-6bc1-478f-ab10-9aec688cd627",
   "metadata": {},
   "outputs": [
    {
     "name": "stdin",
     "output_type": "stream",
     "text": [
      ">  # dont print\n",
      ">  hi\n"
     ]
    },
    {
     "name": "stdout",
     "output_type": "stream",
     "text": [
      "hi\n"
     ]
    }
   ],
   "source": [
    "while True:\n",
    "    line = input('> ')\n",
    "    if line[0] == '#' :\n",
    "        continue\n",
    "    if line == 'done' :\n",
    "        break\n",
    "    print(line)\n",
    "print('Done!')\n"
   ]
  },
  {
   "cell_type": "code",
   "execution_count": null,
   "id": "258142a1-7196-4503-86e1-6108551df6cb",
   "metadata": {},
   "outputs": [],
   "source": []
  }
 ],
 "metadata": {
  "kernelspec": {
   "display_name": "Python 3 (ipykernel)",
   "language": "python",
   "name": "python3"
  },
  "language_info": {
   "codemirror_mode": {
    "name": "ipython",
    "version": 3
   },
   "file_extension": ".py",
   "mimetype": "text/x-python",
   "name": "python",
   "nbconvert_exporter": "python",
   "pygments_lexer": "ipython3",
   "version": "3.12.4"
  }
 },
 "nbformat": 4,
 "nbformat_minor": 5
}
