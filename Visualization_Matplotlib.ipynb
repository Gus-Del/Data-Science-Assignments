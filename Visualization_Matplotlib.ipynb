{
  "nbformat": 4,
  "nbformat_minor": 0,
  "metadata": {
    "colab": {
      "provenance": []
    },
    "kernelspec": {
      "name": "python3",
      "display_name": "Python 3"
    },
    "language_info": {
      "name": "python"
    }
  },
  "cells": [
    {
      "cell_type": "code",
      "execution_count": null,
      "metadata": {
        "id": "KewmZc__rrBy"
      },
      "outputs": [],
      "source": [
        "# Import the matplotlib.pyplot submodule and name it plt\n",
        "import matplotlib.pyplot as plt\n",
        "\n",
        "# Create a Figure and an Axes with plt.subplots\n",
        "fig, ax = plt.subplots()\n",
        "\n",
        "# Call the show function to show the result\n",
        "plt.show()\n",
        "\n"
      ]
    },
    {
      "cell_type": "markdown",
      "source": [
        "Import the matplotlib.pyplot submodule as plt.\n",
        "\n",
        "Create a Figure and an Axes object by calling plt.subplots.\n",
        "\n",
        "Add data from the seattle_weather DataFrame by calling the Axes plot method.\n",
        "\n",
        "Add data from the austin_weather DataFrame in a similar manner and call plt.show to show the results."
      ],
      "metadata": {
        "id": "ipTTgqNaykbl"
      }
    },
    {
      "cell_type": "code",
      "source": [
        "# Import the matplotlib.pyplot submodule and name it plt\n",
        "import matplotlib.pyplot as plt\n",
        "\n",
        "# Create a Figure and an Axes with plt.subplots\n",
        "fig, ax = plt.subplots()\n",
        "\n",
        "# Plot MLY-PRCP-NORMAL from seattle_weather against the MONTH\n",
        "ax.plot(seattle_weather[\"MONTH\"], seattle_weather['MLY-PRCP-NORMAL'])\n",
        "\n",
        "# Plot MLY-PRCP-NORMAL from austin_weather against MONTH\n",
        "ax.plot(austin_weather['MONTH'], austin_weather['MLY-PRCP-NORMAL'])\n",
        "\n",
        "# Call the show function\n",
        "plt.show()"
      ],
      "metadata": {
        "id": "dUrJ0u7iyk0j"
      },
      "execution_count": null,
      "outputs": []
    },
    {
      "cell_type": "markdown",
      "source": [
        "Customizing Your Plot"
      ],
      "metadata": {
        "id": "wWYIltnKywkw"
      }
    },
    {
      "cell_type": "markdown",
      "source": [
        "Call ax.plot to plot \"MLY-PRCP-NORMAL\" against \"MONTHS\" in both DataFrames.\n",
        "\n",
        "Pass the color key-word arguments to these commands to set the color of the Seattle data to blue ('b') and the Austin data to red ('r').\n",
        "\n",
        "Pass the marker key-word arguments to these commands to set the Seattle data to circle markers ('o') and the Austin markers to triangles pointing downwards ('v').\n",
        "\n",
        "Pass the linestyle key-word argument to use dashed lines for the data from both cities ('--')."
      ],
      "metadata": {
        "id": "h3GIrVViy26Z"
      }
    },
    {
      "cell_type": "code",
      "source": [
        "# Plot Seattle data, setting data appearance\n",
        "ax.plot(seattle_weather[\"MONTH\"], seattle_weather[\"MLY-PRCP-NORMAL\"], color='b',marker='o', linestyle ='--')\n",
        "\n",
        "# Plot Austin data, setting data appearance\n",
        "ax.plot(austin_weather[\"MONTH\"], austin_weather[\"MLY-PRCP-NORMAL\"], marker='v', linestyle='--', color='r')\n",
        "\n",
        "# Call show to display the resulting plot\n",
        "plt.show()"
      ],
      "metadata": {
        "id": "k9Xet-nL1Wur"
      },
      "execution_count": null,
      "outputs": []
    },
    {
      "cell_type": "markdown",
      "source": [
        "Use the set_xlabel method to add the label: \"Time (months)\".\n",
        "\n",
        "Use the set_ylabel method to add the label: \"Precipitation (inches)\".\n",
        "\n",
        "Use the set_title method to add the title: \"Weather patterns in Austin and Seattle\"."
      ],
      "metadata": {
        "id": "u8YKZ7-T2JTB"
      }
    },
    {
      "cell_type": "code",
      "source": [
        "ax.plot(seattle_weather[\"MONTH\"], seattle_weather[\"MLY-PRCP-NORMAL\"])\n",
        "ax.plot(austin_weather[\"MONTH\"], austin_weather[\"MLY-PRCP-NORMAL\"])\n",
        "\n",
        "# Customize the x-axis label\n",
        "ax.set_xlabel('Time (months)')\n",
        "\n",
        "# Customize the y-axis label\n",
        "ax.set_ylabel('Precipitation (inches)')\n",
        "\n",
        "# Add the title\n",
        "ax.set_title('Weather patterns in Austin and Seattle')\n",
        "\n",
        "# Display the figure\n",
        "plt.show()"
      ],
      "metadata": {
        "id": "oULILj_t2KuV"
      },
      "execution_count": null,
      "outputs": []
    },
    {
      "cell_type": "markdown",
      "source": [
        "Small Multiples"
      ],
      "metadata": {
        "id": "0eVNZ_lY2Tv5"
      }
    },
    {
      "cell_type": "markdown",
      "source": [
        "Create a Figure and an array of subplots with 2 rows and 2 columns.\n",
        "\n",
        "Addressing the top left Axes as index 0, 0, plot the Seattle precipitation.\n",
        "\n",
        "In the top right (index 0,1), plot Seattle temperatures.\n",
        "\n",
        "In the bottom left (1, 0) and bottom right (1, 1) plot Austin precipitations and temperatures."
      ],
      "metadata": {
        "id": "zPRFVG6e2WcH"
      }
    },
    {
      "cell_type": "code",
      "source": [
        "# Create a Figure and an array of subplots with 2 rows and 2 columns\n",
        "fig, ax = plt.subplots(2, 2)\n",
        "\n",
        "# Addressing the top left Axes as index 0, 0, plot month and Seattle precipitation\n",
        "ax[0, 0].plot(seattle_weather[\"MONTH\"], seattle_weather[\"MLY-PRCP-NORMAL\"])\n",
        "\n",
        "# In the top right (index 0,1), plot month and Seattle temperatures\n",
        "ax[0, 1].plot(seattle_weather[\"MONTH\"], seattle_weather[\"MLY-TAVG-NORMAL\"])\n",
        "\n",
        "# In the bottom left (1, 0) plot month and Austin precipitations\n",
        "ax[1, 0].plot(austin_weather[\"MONTH\"], austin_weather[\"MLY-PRCP-NORMAL\"])\n",
        "\n",
        "# In the bottom right (1, 1) plot month and Austin temperatures\n",
        "ax[1, 1].plot(austin_weather[\"MONTH\"], austin_weather[\"MLY-TAVG-NORMAL\"])\n",
        "plt.show()"
      ],
      "metadata": {
        "id": "WMxvbUVU2WvN"
      },
      "execution_count": null,
      "outputs": []
    },
    {
      "cell_type": "markdown",
      "source": [
        "Create a Figure with an array of two Axes objects that share their y-axis range.\n",
        "\n",
        "Plot Seattle's \"MLY-PRCP-NORMAL\" in a solid blue line in the top Axes.\n",
        "\n",
        "Add Seattle's \"MLY-PRCP-25PCTL\" and \"MLY-PRCP-75PCTL\" in dashed blue lines to the top Axes.\n",
        "\n",
        "Plot Austin's \"MLY-PRCP-NORMAL\" in a solid red line in the bottom Axes and the \"MLY-PRCP-25PCTL\" and \"MLY-PRCP-75PCTL\" in dashed red lines."
      ],
      "metadata": {
        "id": "EmUDWfi141gY"
      }
    },
    {
      "cell_type": "code",
      "source": [
        "# Create a figure and an array of axes: 2 rows, 1 column with shared y axis\n",
        "fig, ax = plt.subplots(2, 1, sharey=True)\n",
        "\n",
        "# Plot Seattle precipitation in the top axes\n",
        "ax[0].plot(seattle_weather[\"MONTH\"], seattle_weather[\"MLY-PRCP-NORMAL\"], color='b')\n",
        "ax[0].plot(seattle_weather[\"MONTH\"], seattle_weather[\"MLY-PRCP-25PCTL\"], color='b', linestyle='--')\n",
        "ax[0].plot(seattle_weather[\"MONTH\"], seattle_weather[\"MLY-PRCP-75PCTL\"], color='b', linestyle='--')\n",
        "\n",
        "# Plot Austin precipitation in the bottom axes\n",
        "ax[1].plot(austin_weather[\"MONTH\"], austin_weather[\"MLY-PRCP-NORMAL\"], color='r')\n",
        "ax[1].plot(austin_weather[\"MONTH\"], austin_weather[\"MLY-PRCP-25PCTL\"], color='r', linestyle='--')\n",
        "ax[1].plot(austin_weather[\"MONTH\"], austin_weather[\"MLY-PRCP-75PCTL\"], color='r', linestyle='--')\n",
        "\n",
        "plt.show()"
      ],
      "metadata": {
        "id": "HorgLobm410p"
      },
      "execution_count": null,
      "outputs": []
    },
    {
      "cell_type": "markdown",
      "source": [
        "Plotting Time-Series Data"
      ],
      "metadata": {
        "id": "jThVMqrA49t8"
      }
    },
    {
      "cell_type": "markdown",
      "source": [
        "import the pandas library as pd.\n",
        "Read in the data from a CSV file called 'climate_change.csv' using pd.read_csv.\n",
        "Use the parse_dates key-word argument to parse the \"date\" column as dates.\n",
        "Use the index_col key-word argument to set the \"date\" column as the index."
      ],
      "metadata": {
        "id": "fydsDhd35LZH"
      }
    },
    {
      "cell_type": "code",
      "source": [
        "# Import pandas\n",
        "import pandas as pd\n",
        "\n",
        "# Read the data from file using read_csv\n",
        "climate_change = pd.read_csv('climate_change.csv', parse_dates=[\"date\"], index_col=\"date\")"
      ],
      "metadata": {
        "id": "ZeY5bR065L-U"
      },
      "execution_count": null,
      "outputs": []
    },
    {
      "cell_type": "markdown",
      "source": [
        "Add the data from climate_change to the plot: use the DataFrame index for the x value and the \"relative_temp\" column for the y values.\n",
        "\n",
        "Set the x-axis label to 'Time'.\n",
        "\n",
        "Set the y-axis label to 'Relative temperature (Celsius)'.\n",
        "Show the figure."
      ],
      "metadata": {
        "id": "j3fn3UYU95im"
      }
    },
    {
      "cell_type": "code",
      "source": [
        "import matplotlib.pyplot as plt\n",
        "fig, ax = plt.subplots()\n",
        "\n",
        "# Add the time-series for \"relative_temp\" to the plot\n",
        "ax.plot(climate_change.index, climate_change['relative_temp'])\n",
        "\n",
        "# Set the x-axis label\n",
        "ax.set_xlabel('Time')\n",
        "\n",
        "# Set the y-axis label\n",
        "ax.set_ylabel('Relative temperature (Celsius)')\n",
        "\n",
        "# Show the figure\n",
        "plt.show()"
      ],
      "metadata": {
        "id": "Pf0Me3Ur-2lp"
      },
      "execution_count": null,
      "outputs": []
    },
    {
      "cell_type": "markdown",
      "source": [
        "Use plt.subplots to create a Figure with one Axes called fig and ax, respectively.\n",
        "\n",
        "Create a variable called seventies that includes all the data between \"1970-01-01\" and \"1979-12-31\".\n",
        "\n",
        "Add the data from seventies to the plot: use the DataFrame index for the x value and the \"co2\" column for the y values."
      ],
      "metadata": {
        "id": "x3-1hLbH_x_C"
      }
    },
    {
      "cell_type": "code",
      "source": [
        "import matplotlib.pyplot as plt\n",
        "\n",
        "# Use plt.subplots to create fig and ax\n",
        "fig, ax = plt.subplots()\n",
        "\n",
        "# Create variable seventies with data from \"1970-01-01\" to \"1979-12-31\"\n",
        "seventies = climate_change[\"1970-01-01\":\"1979-12-31\" ]\n",
        "\n",
        "# Add the time-series for \"co2\" data from seventies to the plot\n",
        "ax.plot(seventies.index, seventies[\"co2\"])\n",
        "\n",
        "# Show the figure\n",
        "plt.show()"
      ],
      "metadata": {
        "id": "J5WkoA46_1AI"
      },
      "execution_count": null,
      "outputs": []
    },
    {
      "cell_type": "markdown",
      "source": [
        "Plotting Time-Series with Different Variables"
      ],
      "metadata": {
        "id": "H7crhcAB__TJ"
      }
    },
    {
      "cell_type": "markdown",
      "source": [
        "Plotting two variables\n",
        "\n",
        "If you want to plot two time-series variables that were recorded at the same times, you can add both of them to the same subplot.\n",
        "\n",
        "If the variables have very different scales, you'll want to make sure that you plot them in different twin Axes objects. These objects can share one axis (for example, the time, or x-axis) while not sharing the other (the y-axis).\n",
        "\n",
        "To create a twin Axes object that shares the x-axis, we use the twinx method.\n",
        "\n",
        "In this exercise, you'll have access to a DataFrame that has the climate_change data loaded into it. This DataFrame was loaded with the \"date\" column set as a DateTimeIndex, and it has a column called \"co2\" with carbon dioxide measurements and a column called \"relative_temp\" with temperature measurements."
      ],
      "metadata": {
        "id": "VI4TPrvDDmT4"
      }
    },
    {
      "cell_type": "markdown",
      "source": [
        "Use plt.subplots to create a Figure and Axes objects called fig and ax, respectively.\n",
        "\n",
        "Plot the carbon dioxide variable in blue using the Axes plot method.\n",
        "\n",
        "Use the Axes twinx method to create a twin Axes that shares the x-axis.\n",
        "\n",
        "Plot the relative temperature variable in red on the twin Axes using its plot method."
      ],
      "metadata": {
        "id": "b5KjUOxpAC3a"
      }
    },
    {
      "cell_type": "code",
      "source": [
        "import matplotlib.pyplot as plt\n",
        "\n",
        "# Initalize a Figure and Axes\n",
        "fig, ax = plt.subplots()\n",
        "\n",
        "# Plot the CO2 variable in blue\n",
        "ax.plot(climate_change.index, climate_change['co2'], color='blue')\n",
        "\n",
        "# Create a twin Axes that shares the x-axis\n",
        "ax2 = ax.twinx()\n",
        "\n",
        "# Plot the relative temperature in red\n",
        "ax2.plot(climate_change.index, climate_change['relative_temp'], color='red')\n",
        "\n",
        "plt.show()"
      ],
      "metadata": {
        "id": "Y2mlCvyLADLj"
      },
      "execution_count": null,
      "outputs": []
    },
    {
      "cell_type": "markdown",
      "source": [
        "Define a function called plot_timeseries that takes as input an Axes object (axes), data (x,y), a string with the name of a color and strings for x- and y-axis labels.\n",
        "\n",
        "Plot y as a function of in the color provided as the input color.\n",
        "\n",
        "Set the x- and y-axis labels using the provided input xlabel and ylabel, setting the y-axis label color using color.\n",
        "\n",
        "Set the y-axis tick parameters using the tick_params method of the Axes object, setting the colors key-word to color."
      ],
      "metadata": {
        "id": "uK5y2vmLEd3E"
      }
    },
    {
      "cell_type": "code",
      "source": [
        "# Define a function called plot_timeseries\n",
        "def plot_timeseries(axes, x, y, color, xlabel, ylabel):\n",
        "\n",
        "  # Plot the inputs x,y in the provided color\n",
        "  axes.plot(x, y, color=color)\n",
        "\n",
        "  # Set the x-axis label\n",
        "  axes.set_xlabel(xlabel)\n",
        "\n",
        "  # Set the y-axis label\n",
        "  axes.set_ylabel(ylabel, color=color)\n",
        "\n",
        "  # Set the colors tick params for y-axis\n",
        "  axes.tick_params('y', colors=color)"
      ],
      "metadata": {
        "id": "X2ET-YGWEeMX"
      },
      "execution_count": null,
      "outputs": []
    },
    {
      "cell_type": "markdown",
      "source": [
        "In the provided ax object, use the function plot_timeseries to plot the \"co2\" column in blue, with the x-axis label \"Time (years)\" and y-axis label \"CO2 levels\".\n",
        "\n",
        "Use the ax.twinx method to add an Axes object to the figure that shares the x-axis with ax.\n",
        "\n",
        "Use the function plot_timeseries to add the data in the \"relative_temp\" column in red to the twin Axes object, with the x-axis label \"Time (years)\" and y-axis label \"Relative temperature (Celsius)\"."
      ],
      "metadata": {
        "id": "repcpgNcErH1"
      }
    },
    {
      "cell_type": "code",
      "source": [
        "fig, ax = plt.subplots()\n",
        "\n",
        "# Plot the CO2 levels time-series in blue\n",
        "plot_timeseries(ax, climate_change.index, climate_change[\"co2\"], 'blue', \"Time (years)\", \"CO2 levels\")\n",
        "\n",
        "# Create a twin Axes object that shares the x-axis\n",
        "ax2 = ax.twinx()\n",
        "\n",
        "# Plot the relative temperature data in red\n",
        "plot_timeseries(ax2, climate_change.index, climate_change['relative_temp'], 'red', \"Time (years)\", \"Relative temperature (Celsius)\")\n",
        "\n",
        "plt.show()"
      ],
      "metadata": {
        "id": "MOkNZXq3EtMI"
      },
      "execution_count": null,
      "outputs": []
    },
    {
      "cell_type": "markdown",
      "source": [
        "Annotating time-series data"
      ],
      "metadata": {
        "id": "gk6WmEcFE4sh"
      }
    },
    {
      "cell_type": "markdown",
      "source": [
        "Use the ax.plot method to plot the DataFrame index against the relative_temp column.\n",
        "\n",
        "Use the annotate method to add the text '>1 degree' in the location (pd.Timestamp('2015-10-06'), 1)."
      ],
      "metadata": {
        "id": "vrxvVkJiJP8v"
      }
    },
    {
      "cell_type": "code",
      "source": [
        "fig, ax = plt.subplots()\n",
        "\n",
        "# Plot the relative temperature data\n",
        "ax.plot(climate_change.index, climate_change['relative_temp'])\n",
        "\n",
        "# Annotate the date at which temperatures exceeded 1 degree\n",
        "ax.annotate('>1 degree', xy=[pd.Timestamp('2015-10-06'),1])\n",
        "\n",
        "plt.show()"
      ],
      "metadata": {
        "id": "N-ffEchqJMlB"
      },
      "execution_count": null,
      "outputs": []
    },
    {
      "cell_type": "markdown",
      "source": [
        "Use the plot_timeseries function to plot CO2 levels against time. Set xlabel to \"Time (years)\" ylabel to \"CO2 levels\" and color to 'blue'.\n",
        "\n",
        "Create ax2, as a twin of the first Axes.\n",
        "\n",
        "In ax2, plot temperature against time, setting the color ylabel to \"Relative temp (Celsius)\" and color to 'red'.\n",
        "\n",
        "Annotate the data using the ax2.annotate method. Place the text \">1 degree\" in x=pd.Timestamp('2008-10-06'), y=-0.2 pointing with a gray thin arrow to x=pd.Timestamp('2015-10-06'), y = 1."
      ],
      "metadata": {
        "id": "1K7nTO3RKXbz"
      }
    },
    {
      "cell_type": "code",
      "source": [
        "fig, ax = plt.subplots()\n",
        "\n",
        "# Plot the CO2 levels time-series in blue\n",
        "plot_timeseries(ax, climate_change.index, climate_change[\"co2\"], 'blue', \"Time (years)\", \"CO2 levels\")\n",
        "\n",
        "# Create an Axes object that shares the x-axis\n",
        "ax2 = ax.twinx()\n",
        "\n",
        "# Plot the relative temperature data in red\n",
        "plot_timeseries(ax2, climate_change.index, climate_change['relative_temp'], 'red', \"Time (years)\", \"Relative temp (Celsius)\")\n",
        "\n",
        "# Annotate the point with relative temperature >1 degree\n",
        "ax2.annotate(\">1 degree\", xy=(pd.Timestamp('2015-10-06'), 1), xytext=(pd.Timestamp('2008-10-06'), -0.2), arrowprops={'arrowstyle':'->', 'color':'gray'})\n",
        "\n",
        "plt.show()"
      ],
      "metadata": {
        "id": "YQ3o02T7KXxo"
      },
      "execution_count": null,
      "outputs": []
    },
    {
      "cell_type": "markdown",
      "source": [
        "Quantitative Comparisons and Statistical Visualizations"
      ],
      "metadata": {
        "id": "nCuFLgiFKhuE"
      }
    },
    {
      "cell_type": "markdown",
      "source": [
        "Bar chart\n",
        "Bar charts visualize data that is organized according to categories as a series of bars, where the height of each bar represents the values of the data in this category.\n",
        "\n",
        "For example, in this exercise, you will visualize the number of gold medals won by each country in the provided medals DataFrame. The DataFrame contains the countries as the index, and a column called \"Gold\" that contains the number of gold medals won by each country, according to their rows."
      ],
      "metadata": {
        "id": "IsXmDL4HOg2T"
      }
    },
    {
      "cell_type": "markdown",
      "source": [
        "Call the ax.bar method to plot the \"Gold\" column as a function of the country.\n",
        "\n",
        "Use the ax.set_xticklabels to set the x-axis tick labels to be the country names.\n",
        "\n",
        "In the call to ax.set_xticklabels rotate the x-axis tick labels by 90 degrees by using the rotation key-word argument.\n",
        "\n",
        "Set the y-axis label to \"Number of medals\"."
      ],
      "metadata": {
        "id": "ta40M8SOOcaV"
      }
    },
    {
      "cell_type": "code",
      "source": [
        "fig, ax = plt.subplots()\n",
        "\n",
        "# Plot a bar-chart of gold medals as a function of country\n",
        "ax.bar(medals.index, medals['Gold'])\n",
        "\n",
        "# Set the x-axis tick labels to the country names\n",
        "ax.set_xticklabels(medals.index, rotation=90)\n",
        "\n",
        "# Set the y-axis label\n",
        "ax.set_ylabel('Number of medals')\n",
        "\n",
        "plt.show()"
      ],
      "metadata": {
        "id": "lkItFZIAOZie"
      },
      "execution_count": null,
      "outputs": []
    },
    {
      "cell_type": "markdown",
      "source": [
        "Stacked bar chart\n",
        "A stacked bar chart contains bars, where the height of each bar represents values. In addition, stacked on top of the first variable may be another variable. The additional height of this bar represents the value of this variable. And you can add more bars on top of that.\n",
        "\n",
        "In this exercise, you will have access to a DataFrame called medals that contains an index that holds the names of different countries, and three columns: \"Gold\", \"Silver\" and \"Bronze\". You will also have a Figure, fig, and Axes, ax, that you can add data to.\n",
        "\n",
        "You will create a stacked bar chart that shows the number of gold, silver, and bronze medals won by each country, and you will add labels and create a legend that indicates which bars represent which medals."
      ],
      "metadata": {
        "id": "VH78DDqaOwYQ"
      }
    },
    {
      "cell_type": "markdown",
      "source": [
        "Call the ax.bar method to add the \"Gold\" medals. Call it with the label set to \"Gold\".\n",
        "\n",
        "Call the ax.bar method to stack \"Silver\" bars on top of that, using the bottom key-word argument so the bottom of the bars will be on top of the gold medal bars, and label to add the label \"Silver\".\n",
        "\n",
        "Use ax.bar to add \"Bronze\" bars on top of that, using the bottom key-word and label it as \"Bronze\"."
      ],
      "metadata": {
        "id": "1v7mRxKdOmtE"
      }
    },
    {
      "cell_type": "code",
      "source": [
        "# Add bars for \"Gold\" with the label \"Gold\"\n",
        "ax.bar(medals.index, medals[\"Gold\"], label=\"Gold\")\n",
        "\n",
        "# Stack bars for \"Silver\" on top with label \"Silver\"\n",
        "ax.bar(medals.index, medals[\"Silver\"], bottom=medals[\"Gold\"], label=\"Silver\")\n",
        "\n",
        "# Stack bars for \"Bronze\" on top of that with label \"Bronze\"\n",
        "ax.bar(medals.index, medals[\"Bronze\"], bottom=medals[\"Gold\"] + medals[\"Silver\"], label=\"Bronze\")\n",
        "\n",
        "# Display the legend\n",
        "ax.legend()\n",
        "\n",
        "plt.show()"
      ],
      "metadata": {
        "id": "4N2_QxE-OnPe"
      },
      "execution_count": null,
      "outputs": []
    },
    {
      "cell_type": "markdown",
      "source": [
        "Quantitative Comparisons: Histograms"
      ],
      "metadata": {
        "id": "9Q4TSw7uO0Hk"
      }
    },
    {
      "cell_type": "markdown",
      "source": [
        "Use the ax.hist method to add a histogram of the \"Weight\" column from the mens_rowing DataFrame.\n",
        "\n",
        "Use ax.hist to add a histogram of \"Weight\" for the mens_gymnastics DataFrame.\n",
        "\n",
        "Set the x-axis label to \"Weight (kg)\" and the y-axis label to \"# of observations\"."
      ],
      "metadata": {
        "id": "nRJax9-rnazE"
      }
    },
    {
      "cell_type": "code",
      "source": [
        "fig, ax = plt.subplots()\n",
        "# Plot a histogram of \"Weight\" for mens_rowing\n",
        "ax.hist(mens_rowing['Weight'])\n",
        "\n",
        "# Compare to histogram of \"Weight\" for mens_gymnastics\n",
        "ax.hist(mens_gymnastics['Weight'])\n",
        "\n",
        "# Set the x-axis label to \"Weight (kg)\"\n",
        "ax.set_xlabel('Weight (kg)')\n",
        "\n",
        "# Set the y-axis label to \"# of observations\"\n",
        "ax.set_ylabel('# of observations')\n",
        "\n",
        "plt.show()"
      ],
      "metadata": {
        "id": "COYPR79CnbNe"
      },
      "execution_count": null,
      "outputs": []
    },
    {
      "cell_type": "markdown",
      "source": [
        "Use the hist method to display a histogram of the \"Weight\" column from the mens_rowing DataFrame, label this as \"Rowing\".\n",
        "\n",
        "Use hist to display a histogram of the \"Weight\" column from the mens_gymnastics DataFrame, and label this as \"Gymnastics\".\n",
        "\n",
        "For both histograms, use the histtype argument to visualize the data using the 'step' type and set the number of bins to use to 5.\n",
        "\n",
        "Add a legend to the figure, before it is displayed."
      ],
      "metadata": {
        "id": "582lzoNYoIj_"
      }
    },
    {
      "cell_type": "code",
      "source": [
        "fig, ax = plt.subplots()\n",
        "\n",
        "# Plot a histogram of \"Weight\" for mens_rowing\n",
        "ax.hist(mens_rowing['Weight'], label = \"Rowing\", histtype = 'step', bins = 5)\n",
        "\n",
        "# Compare to histogram of \"Weight\" for mens_gymnastics\n",
        "ax.hist(mens_gymnastics['Weight'], label = \"Gymnastics\", histtype = 'step', bins =5)\n",
        "\n",
        "ax.set_xlabel(\"Weight (kg)\")\n",
        "ax.set_ylabel(\"# of observations\")\n",
        "\n",
        "# Add the legend and show the Figure\n",
        "ax.legend()\n",
        "plt.show()"
      ],
      "metadata": {
        "id": "KigsPeQgoOKA"
      },
      "execution_count": null,
      "outputs": []
    },
    {
      "cell_type": "markdown",
      "source": [
        "Statistical Plotting"
      ],
      "metadata": {
        "id": "5ZwX4e8qpVWb"
      }
    },
    {
      "cell_type": "markdown",
      "source": [
        "Add a bar with size equal to the mean of the \"Height\" column in the mens_rowing DataFrame and an error-bar of its standard deviation.\n",
        "\n",
        "Add another bar for the mean of the \"Height\" column in mens_gymnastics with an error-bar of its standard deviation.\n",
        "\n",
        "Add a label to the the y-axis: \"Height (cm)\"."
      ],
      "metadata": {
        "id": "gap9_t1GpbZC"
      }
    },
    {
      "cell_type": "code",
      "source": [
        "fig, ax = plt.subplots()\n",
        "\n",
        "# Add a bar for the rowing \"Height\" column mean/std\n",
        "ax.bar(\"Rowing\", mens_rowing[\"Height\"].mean(), yerr=mens_rowing[\"Height\"].std())\n",
        "\n",
        "# Add a bar for the gymnastics \"Height\" column mean/std\n",
        "ax.bar(\"Gymnastics\", mens_gymnastics[\"Height\"].mean(), yerr=mens_gymnastics[\"Height\"].std())\n",
        "\n",
        "# Label the y-axis\n",
        "ax.set_ylabel(\"Height (cm)\")\n",
        "\n",
        "plt.show()"
      ],
      "metadata": {
        "id": "2VXUs61qpbvX"
      },
      "execution_count": null,
      "outputs": []
    },
    {
      "cell_type": "markdown",
      "source": [
        "Use the ax.errorbar method to add the Seattle data: the \"MONTH\" column as x values, the \"MLY-TAVG-NORMAL\" as y values and \"MLY-TAVG-STDDEV\" as yerr values.\n",
        "\n",
        "Add the Austin data: the \"MONTH\" column as x values, the \"MLY-TAVG-NORMAL\" as y values and \"MLY-TAVG-STDDEV\" as yerr values.\n",
        "\n",
        "Set the y-axis label as \"Temperature (Fahrenheit)\"."
      ],
      "metadata": {
        "id": "q2irJo-Cu0Td"
      }
    },
    {
      "cell_type": "code",
      "source": [
        "fig, ax = plt.subplots()\n",
        "\n",
        "# Add the Seattle temperature data in each month with standard deviation error bars\n",
        "ax.errorbar(seattle_weather[\"MONTH\"], seattle_weather[\"MLY-TAVG-NORMAL\"], yerr=seattle_weather[\"MLY-TAVG-STDDEV\"])\n",
        "\n",
        "# Add the Austin temperature data in each month with standard deviation error bars\n",
        "ax.errorbar(austin_weather[\"MONTH\"], austin_weather[\"MLY-TAVG-NORMAL\"], yerr=austin_weather[\"MLY-TAVG-STDDEV\"])\n",
        "\n",
        "# Set the y-axis label\n",
        "ax.set_ylabel(\"Temperature (Fahrenheit)\")\n",
        "\n",
        "plt.show()"
      ],
      "metadata": {
        "id": "xGSsRxw7u0tz"
      },
      "execution_count": null,
      "outputs": []
    },
    {
      "cell_type": "markdown",
      "source": [
        "Create a boxplot that contains the \"Height\" column for mens_rowing on the left and mens_gymnastics on the right.\n",
        "\n",
        "Add x-axis tick labels: \"Rowing\" and \"Gymnastics\".\n",
        "\n",
        "Add a y-axis label: \"Height (cm)\"."
      ],
      "metadata": {
        "id": "GJ88XUwcu9a1"
      }
    },
    {
      "cell_type": "code",
      "source": [
        "fig, ax = plt.subplots()\n",
        "\n",
        "# Add a boxplot for the \"Height\" column in the DataFrames\n",
        "ax.boxplot([mens_rowing[\"Height\"], mens_gymnastics[\"Height\"]])\n",
        "\n",
        "# Add x-axis tick labels:\n",
        "ax.set_xticklabels([\"Rowing\", \"Gymnastics\"])\n",
        "\n",
        "# Add a y-axis label\n",
        "ax.set_ylabel(\"Height (cm)\")\n",
        "\n",
        "plt.show()"
      ],
      "metadata": {
        "id": "eCg8Rp0Yu92l"
      },
      "execution_count": null,
      "outputs": []
    },
    {
      "cell_type": "markdown",
      "source": [
        "Quantitative Comparisons: Scatter Plots"
      ],
      "metadata": {
        "id": "OwTk8waxvFS6"
      }
    },
    {
      "cell_type": "markdown",
      "source": [
        "Simple scatter plot\n",
        "Scatter are a bi-variate visualization technique. They plot each record in the data as a point. The location of each point is determined by the value of two variables: the first variable determines the distance along the x-axis and the second variable determines the height along the y-axis.\n",
        "\n",
        "In this exercise, you will create a scatter plot of the climate_change data. This DataFrame, which is already loaded, has a column \"co2\" that indicates the measurements of carbon dioxide every month and another column, \"relative_temp\" that indicates the temperature measured at the same time."
      ],
      "metadata": {
        "id": "FeyW1Jks3__q"
      }
    },
    {
      "cell_type": "markdown",
      "source": [
        "Using the ax.scatter method, add the data to the plot: \"co2\" on the x-axis and \"relative_temp\" on the y-axis.\n",
        "\n",
        "Set the x-axis label to \"CO2 (ppm)\".\n",
        "\n",
        "Set the y-axis label to \"Relative temperature (C)\"."
      ],
      "metadata": {
        "id": "5q4m0W3ZvJZj"
      }
    },
    {
      "cell_type": "code",
      "source": [
        "fig, ax = plt.subplots()\n",
        "\n",
        "# Add data: \"co2\" on x-axis, \"relative_temp\" on y-axis\n",
        "ax.scatter(climate_change['co2'], climate_change['relative_temp'])\n",
        "\n",
        "# Set the x-axis label to \"CO2 (ppm)\"\n",
        "ax.set_xlabel('CO2 (ppm)')\n",
        "\n",
        "# Set the y-axis label to \"Relative temperature (C)\"\n",
        "ax.set_ylabel('Relative temperature (C)')\n",
        "\n",
        "plt.show()"
      ],
      "metadata": {
        "id": "wy2BpfNyvJxt"
      },
      "execution_count": null,
      "outputs": []
    },
    {
      "cell_type": "markdown",
      "source": [
        "Encoding time by color\n",
        "The screen only has two dimensions, but we can encode another dimension in the scatter plot using color. Here, we will visualize the climate_change dataset, plotting a scatter plot of the \"co2\" column, on the x-axis, against the \"relative_temp\" column, on the y-axis. We will encode time using the color dimension, with earlier times appearing as darker shades of blue and later times appearing as brighter shades of yellow."
      ],
      "metadata": {
        "id": "Ad8s0CiX4sUY"
      }
    },
    {
      "cell_type": "markdown",
      "source": [
        "Using the ax.scatter method add a scatter plot of the \"co2\" column (x-axis) against the \"relative_temp\" column.\n",
        "\n",
        "Use the c key-word argument to pass in the index of the DataFrame as input to color each point according to its date.\n",
        "\n",
        "Set the x-axis label to \"CO2 (ppm)\" and the y-axis label to \"Relative temperature (C)\"."
      ],
      "metadata": {
        "id": "9thsn0dO4mW-"
      }
    },
    {
      "cell_type": "code",
      "source": [
        "fig, ax = plt.subplots()\n",
        "\n",
        "# Add data: \"co2\", \"relative_temp\" as x-y, index as color\n",
        "ax.scatter(climate_change['co2'], climate_change['relative_temp'], c = climate_change.index)\n",
        "\n",
        "# Set the x-axis label to \"CO2 (ppm)\"\n",
        "ax.set_xlabel('CO2 (ppm)')\n",
        "\n",
        "# Set the y-axis label to \"Relative temperature (C)\"\n",
        "ax.set_ylabel('Relative temperature (C)')\n",
        "\n",
        "plt.show()"
      ],
      "metadata": {
        "id": "5QOTanc54mtJ"
      },
      "execution_count": null,
      "outputs": []
    },
    {
      "cell_type": "markdown",
      "source": [
        "Preparing your figures to share with others"
      ],
      "metadata": {
        "id": "uHGrXOAq5Kkc"
      }
    },
    {
      "cell_type": "markdown",
      "source": [
        "Switching between styles\n",
        "Selecting a style to use affects all of the visualizations that are created after this style is selected.\n",
        "\n",
        "Here, you will practice plotting data in two different styles. The data you will use is the same weather data we used in the first lesson: you will have available to you the DataFrame seattle_weather and the DataFrame austin_weather, both with records of the average temperature in every month."
      ],
      "metadata": {
        "id": "ZPHQQFkv6jP7"
      }
    },
    {
      "cell_type": "markdown",
      "source": [
        "Select the 'ggplot' style, create a new Figure called fig, and a new Axes object called ax with plt.subplots."
      ],
      "metadata": {
        "id": "Nk2eW-X75wd7"
      }
    },
    {
      "cell_type": "code",
      "source": [
        "# Use the \"ggplot\" style and create new Figure/Axes\n",
        "plt.style.use('ggplot')\n",
        "fig, ax = plt.subplots()\n",
        "ax.plot(seattle_weather[\"MONTH\"], seattle_weather[\"MLY-TAVG-NORMAL\"])\n",
        "plt.show()"
      ],
      "metadata": {
        "id": "wM26hUxX5xcq"
      },
      "execution_count": null,
      "outputs": []
    },
    {
      "cell_type": "markdown",
      "source": [
        "Select the 'Solarize_Light2' style, create a new Figure called fig, and a new Axes object called ax with plt.subplots."
      ],
      "metadata": {
        "id": "vxwDiu7z6pyq"
      }
    },
    {
      "cell_type": "code",
      "source": [
        "# Use the \"Solarize_Light2\" style and create new Figure/Axes\n",
        "plt.style.use('Solarize_Light2')\n",
        "fig, ax = plt.subplots()\n",
        "ax.plot(austin_weather[\"MONTH\"], austin_weather[\"MLY-TAVG-NORMAL\"])\n",
        "plt.show()"
      ],
      "metadata": {
        "id": "wzYfeWgM6r0B"
      },
      "execution_count": null,
      "outputs": []
    },
    {
      "cell_type": "markdown",
      "source": [
        "Automate your visualization\n",
        "One of the main strengths of Matplotlib is that it can be automated to adapt to the data that it receives as input. For example, if you receive data that has an unknown number of categories, you can still create a bar plot that has bars for each category.\n",
        "\n",
        "This is what you will do in this exercise. You will be visualizing data about medal winners in the 2016 summer Olympic Games again, but this time you will have a dataset that has some unknown number of branches of sports in it. This will be loaded into memory as a pandas DataFrame object called summer_2016_medals, which has a column called \"Sport\" that tells you to which branch of sport each row corresponds. There is also a \"Weight\" column that tells you the weight of each athlete"
      ],
      "metadata": {
        "id": "L77Cpa9u6614"
      }
    },
    {
      "cell_type": "markdown",
      "source": [
        "Iterate over the values of sports setting sport as your loop variable.\n",
        "\n",
        "In each iteration, extract the rows where the \"Sport\" column is equal to sport.\n",
        "\n",
        "Add a bar to the provided ax object, labeled with the sport name, with the mean of the \"Weight\" column as its height, and the standard deviation as a y-axis error bar.\n",
        "\n",
        "Save the figure into the file \"sports_weights.png\"."
      ],
      "metadata": {
        "id": "yi9ePp2P699p"
      }
    },
    {
      "cell_type": "code",
      "source": [
        "fig, ax = plt.subplots()\n",
        "\n",
        "# Loop over the different sports branches\n",
        "for sport in sports:\n",
        "  # Extract the rows only for this sport\n",
        "  sport_df = summer_2016_medals[summer_2016_medals['Sport']==sport]\n",
        "  # Add a bar for the \"Weight\" mean with std y error bar\n",
        "  ax.bar(sport, sport_df['Weight'].mean(),\n",
        "          yerr=sport_df['Weight'].std())\n",
        "\n",
        "ax.set_ylabel(\"Weight\")\n",
        "ax.set_xticklabels(sports, rotation=90)\n",
        "\n",
        "# Save the figure to file\n",
        "fig.savefig('sports_weights.png')"
      ],
      "metadata": {
        "id": "QuZ00rg_6-Wb"
      },
      "execution_count": null,
      "outputs": []
    }
  ]
}